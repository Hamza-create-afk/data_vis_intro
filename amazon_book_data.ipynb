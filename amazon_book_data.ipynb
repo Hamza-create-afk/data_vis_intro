{
 "cells": [
  {
   "cell_type": "code",
   "execution_count": 1,
   "metadata": {},
   "outputs": [],
   "source": [
    "import matplotlib.pyplot as plt\n",
    "import csv\n",
    "import pprint\n",
    "import datetime"
   ]
  },
  {
   "cell_type": "markdown",
   "metadata": {},
   "source": [
    "## Importing and Setting Up Amazon Top 50 Bestselling Book Data\n",
    "Bring CSV data into program and then parse it.\n",
    "Close the CSV file after the information has been read."
   ]
  },
  {
   "cell_type": "code",
   "execution_count": 2,
   "metadata": {},
   "outputs": [],
   "source": [
    "with open(\"bestsellers_with_categories.csv\", \"r\",encoding=\"UTF-8\") as datafile:\n",
    "    book_data = csv.DictReader(datafile) # parses info into variable\n",
    "    data_list = []\n",
    "    \n",
    "    for item in book_data:\n",
    "        data_list.append(item)"
   ]
  },
  {
   "cell_type": "code",
   "execution_count": 3,
   "metadata": {},
   "outputs": [
    {
     "data": {
      "text/plain": [
       "({'Name': '11/22/63: A Novel',\n",
       "  'Author': 'Stephen King',\n",
       "  'User Rating': '4.6',\n",
       "  'Reviews': '2052',\n",
       "  'Price': '22',\n",
       "  'Year': '2011',\n",
       "  'Genre': 'Fiction'},\n",
       " {'Name': 'A Dance with Dragons (A Song of Ice and Fire)',\n",
       "  'Author': 'George R. R. Martin',\n",
       "  'User Rating': '4.4',\n",
       "  'Reviews': '12643',\n",
       "  'Price': '11',\n",
       "  'Year': '2011',\n",
       "  'Genre': 'Fiction'})"
      ]
     },
     "execution_count": 3,
     "metadata": {},
     "output_type": "execute_result"
    }
   ],
   "source": [
    "data_list[1], data_list[5] # displays data according to index"
   ]
  },
  {
   "cell_type": "markdown",
   "metadata": {},
   "source": [
    "## Format the data before we generate a visualization\n",
    "Want to see correlation between year and number of reviews for books on higher scale of bestsellers(4.9) to gauge customer engagement / yr. (Though year does not necessarily mean the review was made that year.)\n",
    "\n",
    "Need ONE BOOK / YEAR (Book with 4.9 rating with highest number of reviews)\n",
    "\n",
    "Create new variable for books with rating of 4.9 (includes all years except 2009).\n",
    "Select only one book per year with highest number of reviews.\n",
    "Print name of books, year, & number of ratings of this list.\n",
    "\n",
    "Should print:\n",
    "       10 books (2010-2019) with name, year & number of reviews\n",
    "       HOWEVER, Oh, the Places You'll Go was the bestseller from 2012-2019, so had to select the next best. If repeated, keep only for earliest year and do no repeats.\n",
    "\n",
    "Want graph to have:\n",
    "    x: year\n",
    "    y: number of reviews"
   ]
  },
  {
   "cell_type": "code",
   "execution_count": 4,
   "metadata": {},
   "outputs": [
    {
     "name": "stdout",
     "output_type": "stream",
     "text": [
      "{2011: {'Author': 'Sarah Young',\n",
      "        'Genre': 'Non Fiction',\n",
      "        'Name': 'Jesus Calling: Enjoying Peace in His Presence (with Scripture '\n",
      "                'References)',\n",
      "        'Price': 8,\n",
      "        'Reviews': 19576,\n",
      "        'User Rating': 4.9,\n",
      "        'Year': 2011},\n",
      " 2012: {'Author': 'Dr. Seuss',\n",
      "        'Genre': 'Fiction',\n",
      "        'Name': \"Oh, the Places You'll Go!\",\n",
      "        'Price': 8,\n",
      "        'Reviews': 21834,\n",
      "        'User Rating': 4.9,\n",
      "        'Year': 2012},\n",
      " 2013: {'Author': 'Dr. Seuss',\n",
      "        'Genre': 'Fiction',\n",
      "        'Name': \"Oh, the Places You'll Go!\",\n",
      "        'Price': 8,\n",
      "        'Reviews': 21834,\n",
      "        'User Rating': 4.9,\n",
      "        'Year': 2013},\n",
      " 2014: {'Author': 'Dr. Seuss',\n",
      "        'Genre': 'Fiction',\n",
      "        'Name': \"Oh, the Places You'll Go!\",\n",
      "        'Price': 8,\n",
      "        'Reviews': 21834,\n",
      "        'User Rating': 4.9,\n",
      "        'Year': 2014},\n",
      " 2015: {'Author': 'Dr. Seuss',\n",
      "        'Genre': 'Fiction',\n",
      "        'Name': \"Oh, the Places You'll Go!\",\n",
      "        'Price': 8,\n",
      "        'Reviews': 21834,\n",
      "        'User Rating': 4.9,\n",
      "        'Year': 2015},\n",
      " 2016: {'Author': 'Dr. Seuss',\n",
      "        'Genre': 'Fiction',\n",
      "        'Name': \"Oh, the Places You'll Go!\",\n",
      "        'Price': 8,\n",
      "        'Reviews': 21834,\n",
      "        'User Rating': 4.9,\n",
      "        'Year': 2016},\n",
      " 2017: {'Author': 'Dr. Seuss',\n",
      "        'Genre': 'Fiction',\n",
      "        'Name': \"Oh, the Places You'll Go!\",\n",
      "        'Price': 8,\n",
      "        'Reviews': 21834,\n",
      "        'User Rating': 4.9,\n",
      "        'Year': 2017},\n",
      " 2018: {'Author': 'Dr. Seuss',\n",
      "        'Genre': 'Fiction',\n",
      "        'Name': \"Oh, the Places You'll Go!\",\n",
      "        'Price': 8,\n",
      "        'Reviews': 21834,\n",
      "        'User Rating': 4.9,\n",
      "        'Year': 2018},\n",
      " 2019: {'Author': 'Dr. Seuss',\n",
      "        'Genre': 'Fiction',\n",
      "        'Name': \"Oh, the Places You'll Go!\",\n",
      "        'Price': 8,\n",
      "        'Reviews': 21834,\n",
      "        'User Rating': 4.9,\n",
      "        'Year': 2019}}\n"
     ]
    }
   ],
   "source": [
    "#Variable for all items with 4.9 rating\n",
    "highest_rated = []\n",
    "for item in data_list:\n",
    "    if item[\"User Rating\"] >= \"4.9\":\n",
    "        highest_rated.append(item)\n",
    "        \n",
    "for hr in highest_rated: \n",
    "    for k, v in hr.items():\n",
    "        try:\n",
    "            hr[k] = int(v) # turns values into integers\n",
    "        except ValueError:\n",
    "            try:\n",
    "                hr[k] = float(v) # except when error (like for ratings)\n",
    "            except Exception:\n",
    "                pass\n",
    "            \n",
    "        \n",
    "# If multiple with the same year, want to ONLY return book with the highest ratings\n",
    "highest_reviewed_per_year = {}\n",
    "\n",
    "for item in highest_rated:\n",
    "    if highest_reviewed_per_year.get(item[\"Year\"]): # check to see if key exists\n",
    "        if item[\"Reviews\"] > highest_reviewed_per_year[item[\"Year\"]][\"Reviews\"]:\n",
    "            highest_reviewed_per_year[item[\"Year\"]] = item\n",
    "    else:\n",
    "        highest_reviewed_per_year[item[\"Year\"]] = item\n",
    "pprint.pprint(highest_reviewed_per_year)\n",
    "      "
   ]
  },
  {
   "cell_type": "markdown",
   "metadata": {},
   "source": [
    "## Create the visualization\n"
   ]
  },
  {
   "cell_type": "code",
   "execution_count": 5,
   "metadata": {},
   "outputs": [
    {
     "data": {
      "text/plain": [
       "[<matplotlib.lines.Line2D at 0x25b7be759d0>]"
      ]
     },
     "execution_count": 5,
     "metadata": {},
     "output_type": "execute_result"
    },
    {
     "data": {
      "image/png": "[encoded data removed]",
      "text/plain": [
       "<Figure size 432x288 with 1 Axes>"
      ]
     },
     "metadata": {
      "needs_background": "light"
     },
     "output_type": "display_data"
    }
   ],
   "source": [
    "plt.title(\"Number of Reviews for the Amazon Bestselling Books per Year\")\n",
    "plt.xlabel(\"Year\")\n",
    "plt.ylabel(\"Reviews\")\n",
    "\n",
    "# TODO: Create x axis MONTHS list\n",
    "x =[]\n",
    "# TODO: Create y axis CUMULATIVE list\n",
    "y = []\n",
    "\n",
    "\n",
    "plt.xticks(rotation=25)\n",
    "plt.ticklabel_format(axis=\"y\",style=\"plain\")\n",
    "plt.plot(x, y)\n"
   ]
  },
  {
   "cell_type": "code",
   "execution_count": null,
   "metadata": {},
   "outputs": [],
   "source": []
  }
 ],
 "metadata": {
  "kernelspec": {
   "display_name": "data_vis",
   "language": "python",
   "name": "data_vis"
  },
  "language_info": {
   "codemirror_mode": {
    "name": "ipython",
    "version": 3
   },
   "file_extension": ".py",
   "mimetype": "text/x-python",
   "name": "python",
   "nbconvert_exporter": "python",
   "pygments_lexer": "ipython3",
   "version": "3.9.1"
  }
 },
 "nbformat": 4,
 "nbformat_minor": 4
}
