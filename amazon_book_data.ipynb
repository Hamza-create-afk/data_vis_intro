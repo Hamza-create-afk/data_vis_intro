{
 "cells": [
  {
   "cell_type": "code",
   "execution_count": 1,
   "metadata": {},
   "outputs": [],
   "source": [
    "import matplotlib.pyplot as plt\n",
    "import csv\n",
    "import pprint\n",
    "from operator import itemgetter"
   ]
  },
  {
   "cell_type": "markdown",
   "metadata": {},
   "source": [
    "## Importing and Setting Up Amazon Top 50 Bestselling Book Data\n",
    "Bring CSV data into program and then parse it.\n",
    "Close the CSV file after the information has been read."
   ]
  },
  {
   "cell_type": "code",
   "execution_count": 2,
   "metadata": {},
   "outputs": [],
   "source": [
    "with open(\"bestsellers_with_categories.csv\", \"r\",encoding=\"UTF-8\") as datafile:\n",
    "    book_data = csv.DictReader(datafile) # parses info into variable\n",
    "    data_list = []\n",
    "    \n",
    "    for item in book_data:\n",
    "        data_list.append(item)"
   ]
  },
  {
   "cell_type": "code",
   "execution_count": 3,
   "metadata": {},
   "outputs": [
    {
     "data": {
      "text/plain": [
       "{'Name': '10-Day Green Smoothie Cleanse',\n",
       " 'Author': 'JJ Smith',\n",
       " 'User Rating': '4.7',\n",
       " 'Reviews': '17350',\n",
       " 'Price': '8',\n",
       " 'Year': '2016',\n",
       " 'Genre': 'Non Fiction'}"
      ]
     },
     "execution_count": 3,
     "metadata": {},
     "output_type": "execute_result"
    }
   ],
   "source": [
    "data_list[0] # displays data according to index"
   ]
  },
  {
   "cell_type": "markdown",
   "metadata": {},
   "source": [
    "## Format the data before we generate a visualization\n",
    "Want to see correlation between year and number of reviews for books on higher scale of bestsellers(4.9) to gauge customer engagement / yr. (Though year does not necessarily mean the review was made that year.)\n",
    "\n",
    "Need ONE BOOK / YEAR (Book with 4.9 rating with highest number of reviews)\n",
    "\n",
    "Create new variable for books with rating of 4.9 (includes all years except 2009).\n",
    "Need to pull year for each book.\n",
    "Need to count how many books included for each year.\n",
    "\n",
    "\n",
    "Want graph to have: x: year y: number of reviews"
   ]
  },
  {
   "cell_type": "code",
   "execution_count": 4,
   "metadata": {},
   "outputs": [
    {
     "name": "stdout",
     "output_type": "stream",
     "text": [
      "{'Name': \"Oh, the Places You'll Go!\", 'Author': 'Dr. Seuss', 'User Rating': 4.9, 'Reviews': 21834, 'Price': 8, 'Year': 2012, 'Genre': 'Fiction'}\n",
      "{2011: {'Author': 'Sarah Young',\n",
      "        'Genre': 'Non Fiction',\n",
      "        'Name': 'Jesus Calling: Enjoying Peace in His Presence (with Scripture '\n",
      "                'References)',\n",
      "        'Price': 8,\n",
      "        'Reviews': 19576,\n",
      "        'User Rating': 4.9,\n",
      "        'Year': 2011},\n",
      " 2012: {'Author': 'Dr. Seuss',\n",
      "        'Genre': 'Fiction',\n",
      "        'Name': \"Oh, the Places You'll Go!\",\n",
      "        'Price': 8,\n",
      "        'Reviews': 21834,\n",
      "        'User Rating': 4.9,\n",
      "        'Year': 2012},\n",
      " 2013: {'Author': 'Eric Carle',\n",
      "        'Genre': 'Fiction',\n",
      "        'Name': 'The Very Hungry Caterpillar',\n",
      "        'Price': 5,\n",
      "        'Reviews': 19546,\n",
      "        'User Rating': 4.9,\n",
      "        'Year': 2013},\n",
      " 2014: {'Author': 'Rush Limbaugh',\n",
      "        'Genre': 'Fiction',\n",
      "        'Name': 'Rush Revere and the First Patriots: Time-Travel Adventures '\n",
      "                'With Exceptional Americans (2)',\n",
      "        'Price': 12,\n",
      "        'Reviews': 3836,\n",
      "        'User Rating': 4.9,\n",
      "        'Year': 2014},\n",
      " 2015: {'Author': 'Brandon Stanton',\n",
      "        'Genre': 'Non Fiction',\n",
      "        'Name': 'Humans of New York : Stories',\n",
      "        'Price': 17,\n",
      "        'Reviews': 2812,\n",
      "        'User Rating': 4.9,\n",
      "        'Year': 2015},\n",
      " 2016: {'Author': 'J.K. Rowling',\n",
      "        'Genre': 'Fiction',\n",
      "        'Name': 'Harry Potter and the Chamber of Secrets: The Illustrated '\n",
      "                'Edition (Harry Potter, Book 2)',\n",
      "        'Price': 30,\n",
      "        'Reviews': 19622,\n",
      "        'User Rating': 4.9,\n",
      "        'Year': 2016},\n",
      " 2017: {'Author': 'Bill Martin Jr.',\n",
      "        'Genre': 'Fiction',\n",
      "        'Name': 'Brown Bear, Brown Bear, What Do You See?',\n",
      "        'Price': 5,\n",
      "        'Reviews': 14344,\n",
      "        'User Rating': 4.9,\n",
      "        'Year': 2017},\n",
      " 2018: {'Author': 'Jill Twiss',\n",
      "        'Genre': 'Fiction',\n",
      "        'Name': 'Last Week Tonight with John Oliver Presents A Day in the Life '\n",
      "                'of Marlon Bundo (Better Bundo Book, LGBT Children\\x92s Book)',\n",
      "        'Price': 13,\n",
      "        'Reviews': 11881,\n",
      "        'User Rating': 4.9,\n",
      "        'Year': 2018},\n",
      " 2019: {'Author': 'Dav Pilkey',\n",
      "        'Genre': 'Fiction',\n",
      "        'Name': 'Dog Man: Fetch-22: From the Creator of Captain Underpants '\n",
      "                '(Dog Man #8)',\n",
      "        'Price': 8,\n",
      "        'Reviews': 12619,\n",
      "        'User Rating': 4.9,\n",
      "        'Year': 2019}}\n"
     ]
    }
   ],
   "source": [
    "#Variable for all items with 4.9 rating\n",
    "highest_rated = []\n",
    "for item in data_list:\n",
    "    if item[\"User Rating\"] == \"4.9\":\n",
    "        highest_rated.append(item)\n",
    "        \n",
    "for hr in highest_rated: \n",
    "    for k, v in hr.items():\n",
    "        try:\n",
    "            hr[k] = int(v) # turns values into integers\n",
    "        except ValueError:\n",
    "            try:\n",
    "                hr[k] = float(v) # except when error (like for ratings)\n",
    "            except Exception:\n",
    "                pass # sort highest_rated by year & reviews descending\n",
    "# print(\"The list printed sorting by year and reviews: \")\n",
    "# pprint.pprint(sorted(highest_rated, key=itemgetter(\"Year\", \"Reviews\"), reverse=True))\n",
    "cleaned_books = {}\n",
    "for item in highest_rated:\n",
    "    if cur := cleaned_books.get(item[\"Name\"]): # what comes back from .get (value)\n",
    "        if cur[\"Reviews\"] < item[\"Reviews\"]:\n",
    "            cleaned_books[item[\"Name\"]] = item\n",
    "        elif cur[\"Reviews\"] == item[\"Reviews\"]:\n",
    "            if item[\"Year\"] < cur[\"Year\"]:\n",
    "                cleaned_books[item[\"Name\"]] = item\n",
    "    else:\n",
    "         cleaned_books[item[\"Name\"]] = item\n",
    "        \n",
    "print(cleaned_books[\"Oh, the Places You'll Go!\"])\n",
    "\n",
    "highest_rated = cleaned_books.values()\n",
    "        \n",
    "    \n",
    "    \n",
    "\n",
    "# If multiple with the same year, want to ONLY return book with the highest ratings. If same book for multiple years, keep for first only.\n",
    "highest_reviewed_per_year = {}\n",
    "\n",
    "for item in highest_rated:\n",
    "    # need loop through highest_rated_per_year & check to see if name is already there. If it is, then show next alternative. \n",
    "#     if highest_reviewed_per_year.get(item[\"Name\"]): # check if value at name\n",
    "#         n = 1 # begin at second index because first has nothing above it\n",
    "#         if item[n][\"Name\"] == item[n-1][\"Name\"]: # if name is equal to a name already used above,\n",
    "            \n",
    "#         else:\n",
    "#             pass\n",
    "    if highest_reviewed_per_year.get(item[\"Year\"]): # .get will check if value here\n",
    "        if item[\"Reviews\"] > highest_reviewed_per_year[item[\"Year\"]][\"Reviews\"]: # if individual item at the key reviews is greater than dictionary at the key of year and value of reviews\n",
    "            highest_reviewed_per_year[item[\"Year\"]] = item # sets as key on highest_reviewed_per_year\n",
    "    else:\n",
    "        highest_reviewed_per_year[item[\"Year\"]] = item\n",
    "pprint.pprint(highest_reviewed_per_year)"
   ]
  },
  {
   "cell_type": "markdown",
   "metadata": {},
   "source": [
    "## Start Visualization"
   ]
  },
  {
   "cell_type": "code",
   "execution_count": 5,
   "metadata": {},
   "outputs": [
    {
     "ename": "SyntaxError",
     "evalue": "invalid syntax (<ipython-input-5-3b834ca40f0b>, line 15)",
     "output_type": "error",
     "traceback": [
      "\u001b[1;36m  File \u001b[1;32m\"<ipython-input-5-3b834ca40f0b>\"\u001b[1;36m, line \u001b[1;32m15\u001b[0m\n\u001b[1;33m    reviews =\u001b[0m\n\u001b[1;37m              ^\u001b[0m\n\u001b[1;31mSyntaxError\u001b[0m\u001b[1;31m:\u001b[0m invalid syntax\n"
     ]
    }
   ],
   "source": [
    "plt.title(\"Number of Reviews for the Amazon Bestselling Books per Year\")\n",
    "plt.xlabel(\"Year\")\n",
    "plt.ylabel(\"Reviews\")\n",
    "\n",
    "plt.show\n",
    "# TODO: Create x axis year list\n",
    "\n",
    "x = [\"0\", \"2011\", \"2012\", \"2013\", \"2014\", \"2015\", \"2016\", \"2017\", \"2018\", \"2019\"]\n",
    "\n",
    "# TODO: Create y axis number of reviews list\n",
    "y = []\n",
    "\n",
    "for item in highest_rated_per_year:\n",
    "    for year in x:\n",
    "        reviews = \n",
    "    \n",
    "\n",
    "plt.plot(x, y)"
   ]
  }
 ],
 "metadata": {
  "kernelspec": {
   "display_name": "data_vis",
   "language": "python",
   "name": "data_vis"
  },
  "language_info": {
   "codemirror_mode": {
    "name": "ipython",
    "version": 3
   },
   "file_extension": ".py",
   "mimetype": "text/x-python",
   "name": "python",
   "nbconvert_exporter": "python",
   "pygments_lexer": "ipython3",
   "version": "3.9.1"
  }
 },
 "nbformat": 4,
 "nbformat_minor": 4
}
