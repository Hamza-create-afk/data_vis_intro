{
 "cells": [
  {
   "cell_type": "markdown",
   "metadata": {},
   "source": [
    "## Importing"
   ]
  },
  {
   "cell_type": "code",
   "execution_count": null,
   "metadata": {},
   "outputs": [],
   "source": [
    "import matplotlib.pyplot as plt\n",
    "import csv\n",
    "import pprint\n",
    "from operator import itemgetter"
   ]
  },
  {
   "cell_type": "markdown",
   "metadata": {},
   "source": [
    "## Setting Up Amazon Top 50 Bestselling Book Data and Establishing Goal\n",
    "Bring CSV data into program and then parse it.\n",
    "Close the CSV file after the information has been read.\n",
    "\n",
    "My goal is to see if there is a correlation between year and the number of reviews for books on the higher-rated bestsellers (reviews of 4.9 or higher) to gauge customer engagement / yr.\n",
    "\n",
    "(I realized late into my project that year a book made the bestseller list does not necessarily mean the review was written that year.)"
   ]
  },
  {
   "cell_type": "code",
   "execution_count": 2,
   "metadata": {},
   "outputs": [],
   "source": [
    "with open(\"bestsellers_with_categories.csv\", \"r\",encoding=\"UTF-8\") as datafile:\n",
    "    book_data = csv.DictReader(datafile) # parses info into variable\n",
    "    data_list = []\n",
    "    \n",
    "    for item in book_data:\n",
    "        data_list.append(item)"
   ]
  },
  {
   "cell_type": "markdown",
   "metadata": {},
   "source": [
    "## Format the data before we generate a visualization\n",
    "\n",
    "First, create a new list to hold books with 4.9 ratings.\n",
    "\n",
    "Next, turn the strings with number values into integers. If this fails based on the inclusion of a decimal (like for ratings), then turn the number from a string into a float.\n",
    "\n",
    "Need the one book / year with rating of 4.9 and the highest number of reviews for that year. However, Dr. Suess' *Oh, the Places You'll Go!* was a bestseller from 2012-2019 AND had the highest number of reviews. If a book has the highest number of reviews for more than one year, then that book will be kept for the earliest year and the next highest reviewed, unused book will be appended to the next year.\n",
    "\n",
    "Sorted the data by year because dictionaries are unordered and, therefore, my graph was also unordered.\n"
   ]
  },
  {
   "cell_type": "code",
   "execution_count": 3,
   "metadata": {},
   "outputs": [
    {
     "name": "stdout",
     "output_type": "stream",
     "text": [
      "{2011: {'Author': 'Sarah Young',\n",
      "        'Genre': 'Non Fiction',\n",
      "        'Name': 'Jesus Calling: Enjoying Peace in His Presence (with Scripture '\n",
      "                'References)',\n",
      "        'Price': 8,\n",
      "        'Reviews': 19576,\n",
      "        'User Rating': 4.9,\n",
      "        'Year': 2011},\n",
      " 2012: {'Author': 'Dr. Seuss',\n",
      "        'Genre': 'Fiction',\n",
      "        'Name': \"Oh, the Places You'll Go!\",\n",
      "        'Price': 8,\n",
      "        'Reviews': 21834,\n",
      "        'User Rating': 4.9,\n",
      "        'Year': 2012},\n",
      " 2013: {'Author': 'Eric Carle',\n",
      "        'Genre': 'Fiction',\n",
      "        'Name': 'The Very Hungry Caterpillar',\n",
      "        'Price': 5,\n",
      "        'Reviews': 19546,\n",
      "        'User Rating': 4.9,\n",
      "        'Year': 2013},\n",
      " 2014: {'Author': 'Rush Limbaugh',\n",
      "        'Genre': 'Fiction',\n",
      "        'Name': 'Rush Revere and the First Patriots: Time-Travel Adventures '\n",
      "                'With Exceptional Americans (2)',\n",
      "        'Price': 12,\n",
      "        'Reviews': 3836,\n",
      "        'User Rating': 4.9,\n",
      "        'Year': 2014},\n",
      " 2015: {'Author': 'Brandon Stanton',\n",
      "        'Genre': 'Non Fiction',\n",
      "        'Name': 'Humans of New York : Stories',\n",
      "        'Price': 17,\n",
      "        'Reviews': 2812,\n",
      "        'User Rating': 4.9,\n",
      "        'Year': 2015},\n",
      " 2016: {'Author': 'J.K. Rowling',\n",
      "        'Genre': 'Fiction',\n",
      "        'Name': 'Harry Potter and the Chamber of Secrets: The Illustrated '\n",
      "                'Edition (Harry Potter, Book 2)',\n",
      "        'Price': 30,\n",
      "        'Reviews': 19622,\n",
      "        'User Rating': 4.9,\n",
      "        'Year': 2016},\n",
      " 2017: {'Author': 'Bill Martin Jr.',\n",
      "        'Genre': 'Fiction',\n",
      "        'Name': 'Brown Bear, Brown Bear, What Do You See?',\n",
      "        'Price': 5,\n",
      "        'Reviews': 14344,\n",
      "        'User Rating': 4.9,\n",
      "        'Year': 2017},\n",
      " 2018: {'Author': 'Jill Twiss',\n",
      "        'Genre': 'Fiction',\n",
      "        'Name': 'Last Week Tonight with John Oliver Presents A Day in the Life '\n",
      "                'of Marlon Bundo (Better Bundo Book, LGBT Children\\x92s Book)',\n",
      "        'Price': 13,\n",
      "        'Reviews': 11881,\n",
      "        'User Rating': 4.9,\n",
      "        'Year': 2018},\n",
      " 2019: {'Author': 'Dav Pilkey',\n",
      "        'Genre': 'Fiction',\n",
      "        'Name': 'Dog Man: Fetch-22: From the Creator of Captain Underpants '\n",
      "                '(Dog Man #8)',\n",
      "        'Price': 8,\n",
      "        'Reviews': 12619,\n",
      "        'User Rating': 4.9,\n",
      "        'Year': 2019}}\n"
     ]
    }
   ],
   "source": [
    "#Variable for all items with 4.9 rating\n",
    "highest_rated = []\n",
    "for item in data_list:\n",
    "    if item[\"User Rating\"] == \"4.9\":\n",
    "        highest_rated.append(item)\n",
    "\n",
    "for hr in highest_rated: \n",
    "    for k, v in hr.items():\n",
    "        try:\n",
    "            hr[k] = int(v) # turns values into integers\n",
    "        except ValueError:\n",
    "            try:\n",
    "                hr[k] = float(v) # except when error (like for ratings)\n",
    "            except Exception:\n",
    "                pass # sort highest_rated by year & reviews descending\n",
    "            \n",
    "# print(\"The list printed sorting by year and reviews: \")\n",
    "# pprint.pprint(sorted(highest_rated, key=itemgetter(\"Year\", \"Reviews\"), reverse=True))\n",
    "\n",
    "# If book is used for multiple years, only keep for lesser of the years.\n",
    "cleaned_books = {}\n",
    "for item in highest_rated:\n",
    "    if cur := cleaned_books.get(item[\"Name\"]): # walrus is expression/ what comes back from .get (value)\n",
    "        if cur[\"Reviews\"] < item[\"Reviews\"]:\n",
    "            cleaned_books[item[\"Name\"]] = item\n",
    "        elif cur[\"Reviews\"] == item[\"Reviews\"]:\n",
    "            if item[\"Year\"] < cur[\"Year\"]:\n",
    "                cleaned_books[item[\"Name\"]] = item\n",
    "    else:\n",
    "         cleaned_books[item[\"Name\"]] = item\n",
    "    \n",
    "highest_rated = cleaned_books.values()\n",
    "# pprint.pprint(sorted(highest_rated, key=itemgetter(\"Year\", \"Reviews\")))\n",
    "        \n",
    "# If multiple with the same year, want to ONLY return book with the highest ratings.\n",
    "highest_reviewed_per_year = {}\n",
    "\n",
    "for item in highest_rated:\n",
    "    if highest_reviewed_per_year.get(item[\"Year\"]): # .get will check if value here\n",
    "        if item[\"Reviews\"] > highest_reviewed_per_year[item[\"Year\"]][\"Reviews\"]: # if value for reviews in highest_rated is greater than value of review for new dictionary\n",
    "                highest_reviewed_per_year[item[\"Year\"]] = item # sets as key on highest_reviewed_per_year\n",
    "    else:\n",
    "        highest_reviewed_per_year[item[\"Year\"]] = item\n",
    "        \n",
    "pprint.pprint(highest_reviewed_per_year)\n",
    "\n",
    "top_per_year_list = sorted(highest_reviewed_per_year.values(), key=lambda x:x[\"Year\"])\n"
   ]
  },
  {
   "cell_type": "markdown",
   "metadata": {},
   "source": [
    "## Start Visualization"
   ]
  },
  {
   "cell_type": "code",
   "execution_count": 4,
   "metadata": {},
   "outputs": [
    {
     "data": {
      "image/png": "[encoded data removed]",
      "text/plain": [
       "<Figure size 432x288 with 1 Axes>"
      ]
     },
     "metadata": {
      "needs_background": "light"
     },
     "output_type": "display_data"
    }
   ],
   "source": [
    "plt.title(\"Number of Reviews for the Amazon's Bestsellers with Ratings of 4.9 per year\")\n",
    "plt.xlabel(\"Year\")\n",
    "plt.ylabel(\"Reviews\")\n",
    "\n",
    "x, y = [], []\n",
    "\n",
    "for item in top_per_year_list:\n",
    "#     print(item)\n",
    "    x.append(item[\"Year\"])\n",
    "    y.append(item[\"Reviews\"])\n",
    "\n",
    "plt.plot(x, y, color=\"green\", linewidth = 2, marker = \"o\")\n",
    "plt.grid(x, color=\"gray\")\n",
    "plt.show()"
   ]
  },
  {
   "cell_type": "markdown",
   "metadata": {},
   "source": [
    "## Insight to Plot\n",
    "Because the year a book was on the bestselling list is not synonymous with the year the reviews for the book were written, my graph does not compare customer engagement throughout the years as I had intended.\n",
    "\n",
    "This does also point to other data analysis opportunities because the position of *Oh the Places You'll Go!* as the book with the highest number of reviews for multiple years and the highest number of reviews on my graph could predict a correlation between numbers a book has been on the bestsellers list and the number of reviews received.\n",
    "\n",
    "In general, the low number of reviews for the books from 2014 & 2015 also suggest there may not be a correlation between the number of reviews a book receives and its rating as well as the number of reviews and a book's position on the Top 50 Bestselling Book List.\n"
   ]
  },
  {
   "cell_type": "code",
   "execution_count": null,
   "metadata": {},
   "outputs": [],
   "source": []
  }
 ],
 "metadata": {
  "kernelspec": {
   "display_name": "data_vis",
   "language": "python",
   "name": "data_vis"
  },
  "language_info": {
   "codemirror_mode": {
    "name": "ipython",
    "version": 3
   },
   "file_extension": ".py",
   "mimetype": "text/x-python",
   "name": "python",
   "nbconvert_exporter": "python",
   "pygments_lexer": "ipython3",
   "version": "3.9.1"
  }
 },
 "nbformat": 4,
 "nbformat_minor": 4
}
